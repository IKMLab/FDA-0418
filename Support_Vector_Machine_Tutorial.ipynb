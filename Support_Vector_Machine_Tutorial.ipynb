{
  "nbformat": 4,
  "nbformat_minor": 0,
  "metadata": {
    "colab": {
      "name": "Support Vector Machine Tutorial.ipynb",
      "version": "0.3.2",
      "provenance": [],
      "collapsed_sections": []
    },
    "language_info": {
      "codemirror_mode": {
        "name": "ipython",
        "version": 3
      },
      "file_extension": ".py",
      "mimetype": "text/x-python",
      "name": "python",
      "nbconvert_exporter": "python",
      "pygments_lexer": "ipython3",
      "version": "3.5.2"
    },
    "kernelspec": {
      "name": "python3",
      "display_name": "Python 3"
    },
    "accelerator": "GPU"
  },
  "cells": [
    {
      "metadata": {
        "id": "7exFKjP2YU31",
        "colab_type": "text"
      },
      "cell_type": "markdown",
      "source": [
        "[![Open In Colab](https://colab.research.google.com/assets/colab-badge.svg)](https://colab.research.google.com/github/IKMLab/FDA_regression_svm_nn/blob/master/Support_Vector_Machine_Tutorial.ipynb)"
      ]
    },
    {
      "metadata": {
        "id": "IPtBWQP9XgdL",
        "colab_type": "text"
      },
      "cell_type": "markdown",
      "source": [
        "# Support Vector Machine Tutorial\n",
        "\n",
        "---\n",
        "\n",
        "A Support Vector Machine (SVM) is a discriminative classifier formally defined by a separating hyperplane. <br>\n",
        "In other words, given labeled training data (supervised learning), the algorithm outputs an optimal hyperplane which categorizes new examples. - [reference](https://docs.opencv.org/2.4/doc/tutorials/ml/introduction_to_svm/introduction_to_svm.html)\n",
        "![](https://i.imgur.com/8M1p9kE.png)"
      ]
    },
    {
      "metadata": {
        "id": "c8H8q-wnXgdM",
        "colab_type": "text"
      },
      "cell_type": "markdown",
      "source": [
        "## Iris dataset\n",
        "---\n",
        "\n",
        "The [iris dataset](http://scikit-learn.org/stable/auto_examples/datasets/plot_iris_dataset.html) is a classic and very easy multi-class classification dataset.\n",
        "\n",
        "![](https://i.imgur.com/plJFlkx.png)\n"
      ]
    },
    {
      "metadata": {
        "id": "ZvhafDXnXgdN",
        "colab_type": "text"
      },
      "cell_type": "markdown",
      "source": [
        "### Import library"
      ]
    },
    {
      "metadata": {
        "id": "_m4ryJEmXgdO",
        "colab_type": "code",
        "colab": {}
      },
      "cell_type": "code",
      "source": [
        "from sklearn import datasets\n",
        "import pandas as pd\n",
        "import numpy as np\n",
        "import matplotlib.pyplot as plt\n",
        "\n",
        "%matplotlib inline"
      ],
      "execution_count": 0,
      "outputs": []
    },
    {
      "metadata": {
        "id": "a_SDXvN5XgdS",
        "colab_type": "text"
      },
      "cell_type": "markdown",
      "source": [
        "### Load Iris dataset"
      ]
    },
    {
      "metadata": {
        "id": "kOJs0snWXgdS",
        "colab_type": "code",
        "outputId": "5e612f2b-62c9-4c0a-e04f-a8c08f7cecf9",
        "colab": {
          "base_uri": "https://localhost:8080/",
          "height": 54
        }
      },
      "cell_type": "code",
      "source": [
        "iris = datasets.load_iris()\n",
        "print(\"Feature_naems: \" + str(iris.feature_names))\n",
        "print(\"Target_names: \" + str(iris.target_names))"
      ],
      "execution_count": 2,
      "outputs": [
        {
          "output_type": "stream",
          "text": [
            "Feature_naems: ['sepal length (cm)', 'sepal width (cm)', 'petal length (cm)', 'petal width (cm)']\n",
            "Target_names: ['setosa' 'versicolor' 'virginica']\n"
          ],
          "name": "stdout"
        }
      ]
    },
    {
      "metadata": {
        "id": "N5KFmmbAXgdX",
        "colab_type": "text"
      },
      "cell_type": "markdown",
      "source": [
        "### Data preparing\n",
        "In the begining, we choose two features to do the classification task."
      ]
    },
    {
      "metadata": {
        "id": "ICebqJ4HXgdX",
        "colab_type": "code",
        "outputId": "792ab106-ee17-436d-e8cc-9bdb9ba1a192",
        "colab": {
          "base_uri": "https://localhost:8080/",
          "height": 198
        }
      },
      "cell_type": "code",
      "source": [
        "x = pd.DataFrame(iris['data'], columns=iris['feature_names'])\n",
        "y = pd.DataFrame(iris['target'], columns=['target'])\n",
        "\n",
        "iris_data = pd.concat([x, y], axis=1)\n",
        "iris_data = iris_data[['sepal length (cm)', 'sepal width (cm)','target']]\n",
        "\n",
        "# iris_data = iris_data[iris_data['target'].isin([0,2])]\n",
        "\n",
        "iris_data.head()"
      ],
      "execution_count": 3,
      "outputs": [
        {
          "output_type": "execute_result",
          "data": {
            "text/html": [
              "<div>\n",
              "<style scoped>\n",
              "    .dataframe tbody tr th:only-of-type {\n",
              "        vertical-align: middle;\n",
              "    }\n",
              "\n",
              "    .dataframe tbody tr th {\n",
              "        vertical-align: top;\n",
              "    }\n",
              "\n",
              "    .dataframe thead th {\n",
              "        text-align: right;\n",
              "    }\n",
              "</style>\n",
              "<table border=\"1\" class=\"dataframe\">\n",
              "  <thead>\n",
              "    <tr style=\"text-align: right;\">\n",
              "      <th></th>\n",
              "      <th>sepal length (cm)</th>\n",
              "      <th>sepal width (cm)</th>\n",
              "      <th>target</th>\n",
              "    </tr>\n",
              "  </thead>\n",
              "  <tbody>\n",
              "    <tr>\n",
              "      <th>0</th>\n",
              "      <td>5.1</td>\n",
              "      <td>3.5</td>\n",
              "      <td>0</td>\n",
              "    </tr>\n",
              "    <tr>\n",
              "      <th>1</th>\n",
              "      <td>4.9</td>\n",
              "      <td>3.0</td>\n",
              "      <td>0</td>\n",
              "    </tr>\n",
              "    <tr>\n",
              "      <th>2</th>\n",
              "      <td>4.7</td>\n",
              "      <td>3.2</td>\n",
              "      <td>0</td>\n",
              "    </tr>\n",
              "    <tr>\n",
              "      <th>3</th>\n",
              "      <td>4.6</td>\n",
              "      <td>3.1</td>\n",
              "      <td>0</td>\n",
              "    </tr>\n",
              "    <tr>\n",
              "      <th>4</th>\n",
              "      <td>5.0</td>\n",
              "      <td>3.6</td>\n",
              "      <td>0</td>\n",
              "    </tr>\n",
              "  </tbody>\n",
              "</table>\n",
              "</div>"
            ],
            "text/plain": [
              "   sepal length (cm)  sepal width (cm)  target\n",
              "0                5.1               3.5       0\n",
              "1                4.9               3.0       0\n",
              "2                4.7               3.2       0\n",
              "3                4.6               3.1       0\n",
              "4                5.0               3.6       0"
            ]
          },
          "metadata": {
            "tags": []
          },
          "execution_count": 3
        }
      ]
    },
    {
      "metadata": {
        "id": "X_h6sN64Xgda",
        "colab_type": "code",
        "colab": {}
      },
      "cell_type": "code",
      "source": [
        "from sklearn.model_selection import train_test_split\n",
        "X_train, X_test, y_train, y_test = train_test_split(\n",
        "    iris_data[['sepal length (cm)', 'sepal width (cm)']], iris_data[['target']], test_size=0.2, random_state=0)"
      ],
      "execution_count": 0,
      "outputs": []
    },
    {
      "metadata": {
        "id": "G9HRsAYuXgdc",
        "colab_type": "text"
      },
      "cell_type": "markdown",
      "source": [
        "### Standardization\n",
        "\n",
        "Standardization of a dataset is a common requirement for many machine learning estimators: they might behave badly if the individual feature do not more or less look like standard normally distributed data (eg Gaussian with 0 mean and unit variance)."
      ]
    },
    {
      "metadata": {
        "id": "fmA9s3njXgdd",
        "colab_type": "code",
        "colab": {}
      },
      "cell_type": "code",
      "source": [
        "from sklearn.preprocessing import StandardScaler\n",
        "\n",
        "scaler = StandardScaler()\n",
        "scaler.fit(X_train)\n",
        "\n",
        "X_train_std = scaler.transform(X_train)\n",
        "X_test_std = scaler.transform(X_test)"
      ],
      "execution_count": 0,
      "outputs": []
    },
    {
      "metadata": {
        "id": "daIiRzChXgdf",
        "colab_type": "text"
      },
      "cell_type": "markdown",
      "source": [
        "### Import  svm model in the sklearn\n",
        "\n",
        "Internally, the svm model in sklearn use [libsvm](https://www.csie.ntu.edu.tw/~cjlin/libsvm/) to handle all computations. <br>\n",
        "Moreover, you could also use **NuSVM** or **LinearSVM** for further usage. (it would be mentioned later)"
      ]
    },
    {
      "metadata": {
        "id": "x0_peaDPXgdg",
        "colab_type": "code",
        "colab": {}
      },
      "cell_type": "code",
      "source": [
        "from sklearn.svm import SVC"
      ],
      "execution_count": 0,
      "outputs": []
    },
    {
      "metadata": {
        "id": "B-doq4siXgdi",
        "colab_type": "text"
      },
      "cell_type": "markdown",
      "source": [
        "### Penalty parameter C\n",
        "- Penalty parameter C of the error term\n",
        "  - Large C : hard-margin\n",
        "  - Small C : soft-margin\n",
        "\n",
        "\n",
        "### Kernel functions\n",
        "In sklearn, there are four build-in kernel functions, ['linear', 'poly', 'rbf', 'sigmoid']((http://scikit-learn.org/stable/modules/svm.html#svm-kernels). <br>\n",
        "Also, you could use your custom kernel function as well."
      ]
    },
    {
      "metadata": {
        "id": "axhLvWXZXgdj",
        "colab_type": "code",
        "colab": {
          "base_uri": "https://localhost:8080/",
          "height": 35
        },
        "outputId": "db8d22c8-7066-4df6-a535-b8e432766563"
      },
      "cell_type": "code",
      "source": [
        "from sklearn.metrics import accuracy_score\n",
        "\n",
        "# Custom kernel function\n",
        "def my_kernel(X, Y):\n",
        "    return np.dot(X, Y.T)\n",
        "  \n",
        "penalty = 1\n",
        "\n",
        "svm = SVC(C=penalty, kernel=\"linear\", probability=True)\n",
        "svm.fit(X_train, y_train['target'].values)\n",
        "  \n",
        "acc_rate = accuracy_score(y_test['target'].values, svm.predict(X_test)) * 100\n",
        "print(\"Penalty = %.2f, Accuracy = %.2f %%\" % (penalty, acc_rate))\n",
        " "
      ],
      "execution_count": 7,
      "outputs": [
        {
          "output_type": "stream",
          "text": [
            "Penalty = 1.00, Accuracy = 73.33 %\n"
          ],
          "name": "stdout"
        }
      ]
    },
    {
      "metadata": {
        "id": "Qv7TT_eGXgdq",
        "colab_type": "text"
      },
      "cell_type": "markdown",
      "source": [
        "### Support vectors"
      ]
    },
    {
      "metadata": {
        "id": "mGoUpZXBXgdq",
        "colab_type": "code",
        "outputId": "cfbfb0af-ad05-4b3c-cf0a-7fa8ca27aeb1",
        "colab": {
          "base_uri": "https://localhost:8080/",
          "height": 108
        }
      },
      "cell_type": "code",
      "source": [
        "for i, sv in enumerate(zip(svm.support_, svm.support_vectors_)):\n",
        "    if i < 5:\n",
        "        print(\"Index: %s; Support vector: %s\" % (sv[0], sv[1]))"
      ],
      "execution_count": 8,
      "outputs": [
        {
          "output_type": "stream",
          "text": [
            "Index: 6; Support vector: [5.7 3.8]\n",
            "Index: 42; Support vector: [5.4 3.4]\n",
            "Index: 52; Support vector: [4.8 3. ]\n",
            "Index: 61; Support vector: [4.5 2.3]\n",
            "Index: 63; Support vector: [4.9 3. ]\n"
          ],
          "name": "stdout"
        }
      ]
    },
    {
      "metadata": {
        "id": "iehUGK-KXgdt",
        "colab_type": "text"
      },
      "cell_type": "markdown",
      "source": [
        "### Number of **support vectors** in each class"
      ]
    },
    {
      "metadata": {
        "id": "_iNyc_JYXgdu",
        "colab_type": "code",
        "outputId": "b196e307-a5c9-4f96-b461-47afd426e6f7",
        "colab": {
          "base_uri": "https://localhost:8080/",
          "height": 35
        }
      },
      "cell_type": "code",
      "source": [
        "svm.n_support_"
      ],
      "execution_count": 9,
      "outputs": [
        {
          "output_type": "execute_result",
          "data": {
            "text/plain": [
              "array([ 9, 29, 27], dtype=int32)"
            ]
          },
          "metadata": {
            "tags": []
          },
          "execution_count": 9
        }
      ]
    },
    {
      "metadata": {
        "scrolled": true,
        "id": "yZ-q3UEZXgdw",
        "colab_type": "code",
        "outputId": "b06e1ce6-45e3-45d0-ea05-b7c8f48a8640",
        "colab": {
          "base_uri": "https://localhost:8080/",
          "height": 54
        }
      },
      "cell_type": "code",
      "source": [
        "print(\"The labels by model prediction : %s\" % svm.predict(X_test))\n",
        "print(\"Real labels in the testing set : %s\" % y_test['target'].values)"
      ],
      "execution_count": 10,
      "outputs": [
        {
          "output_type": "stream",
          "text": [
            "The labels by model prediction : [1 1 0 2 0 2 0 2 2 1 1 2 1 2 1 0 1 1 0 0 1 1 0 0 2 0 0 2 1 0]\n",
            "Real labels in the testing set : [2 1 0 2 0 2 0 1 1 1 2 1 1 1 1 0 1 1 0 0 2 1 0 0 2 0 0 1 1 0]\n"
          ],
          "name": "stdout"
        }
      ]
    },
    {
      "metadata": {
        "id": "BxIZtZYrXgd2",
        "colab_type": "text"
      },
      "cell_type": "markdown",
      "source": [
        "### Prediction probability for each label"
      ]
    },
    {
      "metadata": {
        "id": "0YJ4d-NnXgd3",
        "colab_type": "code",
        "outputId": "47d383fd-24e7-4a33-ed63-046f0fef3467",
        "colab": {
          "base_uri": "https://localhost:8080/",
          "height": 563
        }
      },
      "cell_type": "code",
      "source": [
        "for prob in svm.predict_proba(X_test):\n",
        "    print([\"%.2f\" % p for p in prob] )"
      ],
      "execution_count": 11,
      "outputs": [
        {
          "output_type": "stream",
          "text": [
            "['0.03', '0.61', '0.36']\n",
            "['0.00', '0.55', '0.45']\n",
            "['0.99', '0.00', '0.01']\n",
            "['0.00', '0.14', '0.86']\n",
            "['0.96', '0.02', '0.01']\n",
            "['0.03', '0.42', '0.55']\n",
            "['0.98', '0.01', '0.01']\n",
            "['0.00', '0.29', '0.71']\n",
            "['0.00', '0.26', '0.74']\n",
            "['0.01', '0.51', '0.48']\n",
            "['0.01', '0.51', '0.48']\n",
            "['0.01', '0.39', '0.59']\n",
            "['0.01', '0.51', '0.48']\n",
            "['0.00', '0.36', '0.64']\n",
            "['0.02', '0.51', '0.48']\n",
            "['0.99', '0.00', '0.00']\n",
            "['0.02', '0.54', '0.44']\n",
            "['0.04', '0.71', '0.25']\n",
            "['0.91', '0.07', '0.02']\n",
            "['0.97', '0.02', '0.02']\n",
            "['0.06', '0.67', '0.27']\n",
            "['0.13', '0.63', '0.24']\n",
            "['0.99', '0.01', '0.01']\n",
            "['0.98', '0.01', '0.00']\n",
            "['0.01', '0.47', '0.52']\n",
            "['1.00', '0.00', '0.00']\n",
            "['0.99', '0.00', '0.01']\n",
            "['0.01', '0.47', '0.52']\n",
            "['0.08', '0.80', '0.12']\n",
            "['0.96', '0.02', '0.01']\n"
          ],
          "name": "stdout"
        }
      ]
    },
    {
      "metadata": {
        "id": "P2oLl2NpXgd6",
        "colab_type": "text"
      },
      "cell_type": "markdown",
      "source": [
        "### Plot the classification results"
      ]
    },
    {
      "metadata": {
        "id": "dBuXtkjEXgd6",
        "colab_type": "code",
        "colab": {}
      },
      "cell_type": "code",
      "source": [
        "from matplotlib.colors import ListedColormap\n",
        "\n",
        "def plot_decision_regions(X, y, classifier, test_idx=None, resolution=0.02):\n",
        "\n",
        "    # setup marker generator and color map\n",
        "    markers = ('s', 'x', 'o', '^', 'v')\n",
        "    colors = ('red', 'blue', 'lightgreen', 'gray', 'cyan')\n",
        "    cmap = ListedColormap(colors[:len(np.unique(y))])\n",
        "\n",
        "    # plot the decision surface\n",
        "    x1_min, x1_max = X[:, 0].min() - 1, X[:, 0].max() + 1\n",
        "    x2_min, x2_max = X[:, 1].min() - 1, X[:, 1].max() + 1\n",
        "    xx1, xx2 = np.meshgrid(np.arange(x1_min, x1_max, resolution),\n",
        "                           np.arange(x2_min, x2_max, resolution))\n",
        "    Z = classifier.predict(np.array([xx1.ravel(), xx2.ravel()]).T)\n",
        "    Z = Z.reshape(xx1.shape)\n",
        "    plt.contourf(xx1, xx2, Z, alpha=0.4, cmap=cmap)\n",
        "    plt.xlim(xx1.min(), xx1.max())\n",
        "    plt.ylim(xx2.min(), xx2.max())\n",
        "\n",
        "    for idx, cl in enumerate(np.unique(y)):\n",
        "        plt.scatter(x=X[y == cl, 0], \n",
        "                    y=X[y == cl, 1],\n",
        "                    alpha=0.6, \n",
        "                    c = ['red', 'blue', 'green'][idx],\n",
        "                    edgecolor='black',\n",
        "                    marker=markers[idx], \n",
        "                    label=cl)\n",
        "\n",
        "    # highlight test samples\n",
        "    if test_idx:\n",
        "        # plot all samples\n",
        "        if not versiontuple(np.__version__) >= versiontuple('1.9.0'):\n",
        "            X_test, y_test = X[list(test_idx), :], y[list(test_idx)]\n",
        "            warnings.warn('Please update to NumPy 1.9.0 or newer')\n",
        "        else:\n",
        "            X_test, y_test = X[test_idx, :], y[test_idx]\n",
        "\n",
        "        plt.scatter(X_test[:, 0],\n",
        "                    X_test[:, 1],\n",
        "                    c='',\n",
        "                    alpha=1.0,\n",
        "                    edgecolor='black',\n",
        "                    linewidths=1,\n",
        "                    marker='o',\n",
        "                    s=55, label='test set')"
      ],
      "execution_count": 0,
      "outputs": []
    },
    {
      "metadata": {
        "id": "lLMlg_3q7qlr",
        "colab_type": "code",
        "colab": {}
      },
      "cell_type": "code",
      "source": [
        "def plot_train_test(location, x, y):\n",
        "  \n",
        "    plt.subplot(1,2,location)\n",
        "\n",
        "    plot_decision_regions(x, y, classifier=svm)\n",
        "    if location == 1:\n",
        "      plt.title(\"Training\")\n",
        "    elif location == 2:\n",
        "      plt.title(\"Testing\")\n",
        "    plt.xlabel('sepal length')\n",
        "    plt.ylabel('sepal width')\n",
        "    plt.legend(loc='upper left')\n",
        "    plt.tight_layout()\n",
        "    "
      ],
      "execution_count": 0,
      "outputs": []
    },
    {
      "metadata": {
        "id": "_YORW-VF-QCl",
        "colab_type": "code",
        "colab": {
          "base_uri": "https://localhost:8080/",
          "height": 35
        },
        "outputId": "a051918d-6d04-4006-c53d-de45338926e4"
      },
      "cell_type": "code",
      "source": [
        "penalty = 0.05\n",
        "\n",
        "svm = SVC(C=penalty, kernel=\"linear\", probability=True)\n",
        "svm.fit(X_train, y_train['target'].values)\n",
        "\n",
        "acc_rate = accuracy_score(y_test['target'].values, svm.predict(X_test)) * 100\n",
        "print(\"Penalty = %.2f, Accuracy = %.2f %%\" % (penalty, acc_rate))"
      ],
      "execution_count": 19,
      "outputs": [
        {
          "output_type": "stream",
          "text": [
            "Penalty = 0.05, Accuracy = 63.33 %\n"
          ],
          "name": "stdout"
        }
      ]
    },
    {
      "metadata": {
        "id": "R88uThiuXgd8",
        "colab_type": "code",
        "outputId": "558a8317-bde7-4b72-b11d-fee2e5561be6",
        "colab": {
          "base_uri": "https://localhost:8080/",
          "height": 387
        }
      },
      "cell_type": "code",
      "source": [
        "plt.figure(figsize=(10,5))\n",
        "\n",
        "plot_train_test(1, X_train.values, y_train['target'].values)\n",
        "plot_train_test(2, X_test.values, y_test['target'].values)\n",
        "\n",
        "plt.show()\n",
        "\n",
        "print(\"C: %.2f, Accuracy: %.2f %%\" % (penalty, acc_rate))"
      ],
      "execution_count": 20,
      "outputs": [
        {
          "output_type": "display_data",
          "data": {
            "image/png": "[encoded data removed]",
            "text/plain": [
              "<Figure size 720x360 with 2 Axes>"
            ]
          },
          "metadata": {
            "tags": []
          }
        },
        {
          "output_type": "stream",
          "text": [
            "C: 0.05, Accuracy: 63.33 %\n"
          ],
          "name": "stdout"
        }
      ]
    },
    {
      "metadata": {
        "id": "BANJ26dO7flt",
        "colab_type": "code",
        "colab": {
          "base_uri": "https://localhost:8080/",
          "height": 387
        },
        "outputId": "7f0cd7ab-e47d-422f-b022-ea4db6948c70"
      },
      "cell_type": "code",
      "source": [
        "plt.figure(figsize=(10,5))\n",
        "\n",
        "plot_train_test(1, X_train.values, y_train['target'].values)\n",
        "plot_train_test(2, X_test.values, y_test['target'].values)\n",
        "\n",
        "plt.show()\n",
        "\n",
        "print(\"C: %.2f, Accuracy: %.2f %%\" % (penalty, acc_rate))"
      ],
      "execution_count": 16,
      "outputs": [
        {
          "output_type": "display_data",
          "data": {
            "image/png": "[encoded data removed]",
            "text/plain": [
              "<Figure size 720x360 with 2 Axes>"
            ]
          },
          "metadata": {
            "tags": []
          }
        },
        {
          "output_type": "stream",
          "text": [
            "C: 0.05, Accuracy: 73.33 %\n"
          ],
          "name": "stdout"
        }
      ]
    },
    {
      "metadata": {
        "id": "3cpigKmNXgeA",
        "colab_type": "text"
      },
      "cell_type": "markdown",
      "source": [
        "# Supplement\n",
        "\n",
        "## Other svm models in sklearn"
      ]
    },
    {
      "metadata": {
        "id": "OQzwZ5dzXgeA",
        "colab_type": "text"
      },
      "cell_type": "markdown",
      "source": [
        "### [NuSVC](http://scikit-learn.org/stable/modules/generated/sklearn.svm.NuSVC.html#sklearn.svm.NuSVC)\n",
        "Similar to SVC but uses a parameter(nu) to control the number of support vectors.\n",
        "\n",
        "- **nu** : float, optional (default=0.5)\n",
        "    - An upper bound on the fraction of training errors and a lower bound of the fraction of support vectors. Should be in the interval (0, 1]."
      ]
    },
    {
      "metadata": {
        "id": "YKYFVvcYXgeC",
        "colab_type": "code",
        "colab": {}
      },
      "cell_type": "code",
      "source": [
        "from sklearn.svm import NuSVC\n",
        "svm = NuSVC(nu=0.1, kernel=\"linear\", probability=True)"
      ],
      "execution_count": 0,
      "outputs": []
    },
    {
      "metadata": {
        "id": "ZzKQd71hXgeD",
        "colab_type": "text"
      },
      "cell_type": "markdown",
      "source": [
        "### [LinearSVC](http://scikit-learn.org/stable/modules/generated/sklearn.svm.LinearSVC.html#sklearn.svm.LinearSVC)\n",
        "\n",
        "Similar to SVC with parameter kernel=’linear’, but implemented in terms of [liblinear](https://www.csie.ntu.edu.tw/~cjlin/liblinear/) rather than libsvm, so it has more flexibility in the choice of penalties and loss functions and should scale better to large numbers of samples.\n",
        "\n",
        "\t\n",
        "- **penalty** : string, ‘l1’ or ‘l2’ (default=’l2’)\n",
        "\n",
        "    - Specifies the norm used in the penalization. The ‘l2’ penalty is the standard used in SVC. The ‘l1’ leads to coef_ vectors that are sparse.\n",
        "\n",
        "- **loss** : string, ‘hinge’ or ‘squared_hinge’ (default=’squared_hinge’)\n",
        "\n",
        "    - Specifies the loss function. ‘hinge’ is the standard SVM loss (used e.g. by the SVC class) while ‘squared_hinge’ is the square of the hinge loss.\n",
        "\n",
        "- **dual** : bool, (default=True)\n",
        "\n",
        "    - Select the algorithm to either solve the dual or primal optimization problem. Prefer dual=False when n_samples > n_features."
      ]
    },
    {
      "metadata": {
        "id": "S0v6TpOyXgeE",
        "colab_type": "code",
        "colab": {}
      },
      "cell_type": "code",
      "source": [
        "from sklearn.svm import LinearSVC\n",
        "linearSvm = LinearSVC(penalty='l1', loss='hinge', dual=False)"
      ],
      "execution_count": 0,
      "outputs": []
    }
  ]
}